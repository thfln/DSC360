{
 "cells": [
  {
   "cell_type": "markdown",
   "id": "adba55f2-9c13-41d9-9750-2c38374ecc57",
   "metadata": {},
   "source": [
    "# DSC360 - Week 6 - Exercise 6.2"
   ]
  },
  {
   "cell_type": "markdown",
   "id": "c0123089-8b05-44be-a842-625317bbbecc",
   "metadata": {},
   "source": [
    "We begin the exercises this week by providing a section for attribution and description."
   ]
  },
  {
   "cell_type": "raw",
   "id": "655a4e5d-ce9d-462f-b5db-80ebfe6d525e",
   "metadata": {},
   "source": [
    "============================================\n",
    "; Title: Exercise 6.2\n",
    "; Author: Various\n",
    "; Date: 30 September 2024\n",
    "; Modified By: Tyler Heflin\n",
    "; Description: This program demonstrates the use of Python to\n",
    "; classify text.\n",
    ";=========================================== */"
   ]
  },
  {
   "cell_type": "markdown",
   "id": "6c89b27c-1530-4980-8988-cd23c16b86db",
   "metadata": {},
   "source": [
    "***"
   ]
  },
  {
   "cell_type": "markdown",
   "id": "9856f7d7-1183-48fc-b534-e4924479acc8",
   "metadata": {},
   "source": [
    "## Exercise 6.2"
   ]
  },
  {
   "cell_type": "markdown",
   "id": "1c299096-af3e-4a71-a877-b072b344c310",
   "metadata": {},
   "source": [
    "## Logistic Regression Model for Text Classification"
   ]
  },
  {
   "cell_type": "markdown",
   "id": "014e7b37-8326-4904-9686-c8bf0e9b211c",
   "metadata": {},
   "source": [
    "Using this dataset (https://www.kaggle.com/datasets/sid321axn/amazon-alexa-reviews), build a **logistic regression model** to predict positive or negative feedback based on review text. Be sure to run a test with something random you create (out of sample). Remember: 1 is positive, 0 is negative."
   ]
  },
  {
   "cell_type": "markdown",
   "id": "7a632c8a-ae40-400c-97fb-3969606f59ea",
   "metadata": {},
   "source": [
    "<br>"
   ]
  },
  {
   "cell_type": "markdown",
   "id": "97cce2df-f64b-4f3a-9134-08d5df64a4d5",
   "metadata": {},
   "source": [
    "In the code that follows, libraries for data manipulation, machine learning, and natural language processing were imported. The dataset \"amazon_alexa.tsv\", that contains Amazon Alexa reviews, was used and read into a pandas DataFrame. A function was created to preprocess the text data contained within and performed text conversion to lowercase, removal of punctuation and non-alphabetic characters, and removal of stopwords. This function cleaned text data to allow for more efficient model training. The TfidfVectorizer function was used to convert cleaned text into numeric features. After numeric conversion, the dataset was split into training and testing sets; this method ensures that the model is trained on a portion of the data and then evaluated on unseen data for assessment of accuracy. A logistic regression model was then instantized and trained. The model was subsequently used to predict sentiment on the test set and the accuracy of the model was calculated. Additional metrics, including a classification report, are printed to assess model performance. The final step involved utilizing the \"predict_review\" function to predict the sentiment of any new review text."
   ]
  },
  {
   "cell_type": "code",
   "execution_count": 1,
   "id": "c36506c0-b0e4-4b84-81de-7f55bdc1ea95",
   "metadata": {},
   "outputs": [
    {
     "name": "stdout",
     "output_type": "stream",
     "text": [
      "   rating       date         variation  \\\n",
      "0       5  31-Jul-18  Charcoal Fabric    \n",
      "1       5  31-Jul-18  Charcoal Fabric    \n",
      "2       4  31-Jul-18    Walnut Finish    \n",
      "3       5  31-Jul-18  Charcoal Fabric    \n",
      "4       5  31-Jul-18  Charcoal Fabric    \n",
      "\n",
      "                                    verified_reviews  feedback  \n",
      "0                                      Love my Echo!         1  \n",
      "1                                          Loved it!         1  \n",
      "2  Sometimes while playing a game, you can answer...         1  \n",
      "3  I have had a lot of fun with this thing. My 4 ...         1  \n",
      "4                                              Music         1  \n",
      "Accuracy: 0.9095238095238095\n",
      "Classification Report:\n",
      "               precision    recall  f1-score   support\n",
      "\n",
      "           0       1.00      0.02      0.03        58\n",
      "           1       0.91      1.00      0.95       572\n",
      "\n",
      "    accuracy                           0.91       630\n",
      "   macro avg       0.95      0.51      0.49       630\n",
      "weighted avg       0.92      0.91      0.87       630\n",
      "\n",
      "Review: 'I love using this device, it makes everything easier!'\n",
      "Predicted Feedback: Positive\n",
      "\n",
      "\n",
      "Review: 'I received the echo as a gift. I needed another Bluetooth or something to play music easily accessible, and found this smart speaker. Can’t wait to see what else it can do.'\n",
      "Predicted Feedback: Positive\n",
      "\n",
      "\n",
      "Review: 'The sound quality is amazing and it connects seamlessly to my phone.'\n",
      "Predicted Feedback: Positive\n",
      "\n",
      "\n",
      "Review: 'Stopped working after just two days. Waste of money!'\n",
      "Predicted Feedback: Negative\n",
      "\n",
      "\n"
     ]
    }
   ],
   "source": [
    "# Import the necessary libraries\n",
    "import pandas as pd\n",
    "import numpy as np\n",
    "from sklearn.model_selection import train_test_split\n",
    "from sklearn.feature_extraction.text import TfidfVectorizer\n",
    "from sklearn.linear_model import LogisticRegression\n",
    "from sklearn.metrics import accuracy_score, classification_report\n",
    "from sklearn.feature_extraction.text import CountVectorizer\n",
    "import nltk\n",
    "from nltk.corpus import stopwords\n",
    "import string\n",
    "import re\n",
    "\n",
    "# Load dataset\n",
    "df = pd.read_csv(r'C:\\Users\\thefli0\\Downloads\\archive (1)\\amazon_alexa.tsv', sep='\\t')\n",
    "\n",
    "# Display the first few rows to understand dataset\n",
    "print(df.head())\n",
    "\n",
    "# Define preprocessing function to clean text\n",
    "def preprocess_text(text):\n",
    "    if isinstance(text, str):\n",
    "        # Lowercase the text\n",
    "        text = text.lower()\n",
    "        # Remove punctuation\n",
    "        text = text.translate(str.maketrans('', '', string.punctuation))\n",
    "        # Remove digits\n",
    "        text = re.sub(r'\\d+', '', text)\n",
    "        # Tokenize and remove stopwords\n",
    "        stop_words = set(stopwords.words('english'))\n",
    "        text = ' '.join([word for word in text.split() if word not in stop_words])\n",
    "    else:\n",
    "        text = \"\"   \n",
    "    return text\n",
    "\n",
    "# Apply preprocessing to review column\n",
    "df['cleaned_review'] = df['verified_reviews'].apply(preprocess_text)\n",
    "\n",
    "# Feature extraction with TfidfVectorizer, limit features for simplicity\n",
    "tfidf_vectorizer = TfidfVectorizer(max_features=1000)\n",
    "X_tfidf = tfidf_vectorizer.fit_transform(df['cleaned_review'])\n",
    "\n",
    "# Feature extraction with CountVectorizer\n",
    "count_vectorizer = CountVectorizer()\n",
    "X_count = count_vectorizer.fit_transform(df['cleaned_review'])\n",
    "\n",
    "# Define target \"feedback\" column (1 = positive; 0 = negative)\n",
    "y = df['feedback']\n",
    "\n",
    "# Split data into training and testing sets\n",
    "X_train_tfidf, X_test_tfidf, y_train, y_test = train_test_split(X_tfidf, y, test_size=0.2, random_state=42)\n",
    "X_train_count, X_test_count, y_train_count, y_test_count = train_test_split(X_count, y, test_size=0.2, random_state=42)\n",
    "\n",
    "# Create and train logistic regression model\n",
    "logistic_model = LogisticRegression()\n",
    "logistic_model.fit(X_train_tfidf, y_train)\n",
    "\n",
    "# Predict based on test set\n",
    "y_pred_logistic = logistic_model.predict(X_test_tfidf)\n",
    "\n",
    "# Evaluate model\n",
    "print(\"Accuracy:\", accuracy_score(y_test, y_pred_logistic))\n",
    "print(\"Classification Report:\\n\", classification_report(y_test, y_pred_logistic))\n",
    "\n",
    "# Define function to predict feedback for sample text\n",
    "def predict_review(review_text):\n",
    "    cleaned_review = preprocess_text(review_text)\n",
    "    vectorized_review = tfidf_vectorizer.transform([cleaned_review])\n",
    "    prediction = logistic_model.predict(vectorized_review)\n",
    "    return prediction[0]\n",
    "\n",
    "# Test model with random sample\n",
    "test_reviews = [\n",
    "    \"I love using this device, it makes everything easier!\",\n",
    "    \"I received the echo as a gift. I needed another Bluetooth or something to play music easily accessible, and found this smart speaker. Can’t wait to see what else it can do.\",\n",
    "    \"The sound quality is amazing and it connects seamlessly to my phone.\",\n",
    "    \"Stopped working after just two days. Waste of money!\"\n",
    "]\n",
    "\n",
    "for review in test_reviews:\n",
    "    prediction = predict_review(review)\n",
    "    print(f\"Review: '{review}'\")\n",
    "    if prediction == 1:\n",
    "        print(\"Predicted Feedback: Positive\")\n",
    "    else:\n",
    "        print(\"Predicted Feedback: Negative\")\n",
    "    print(\"\\n\")"
   ]
  },
  {
   "cell_type": "markdown",
   "id": "81a8dde3-3f24-440f-88bf-45443ec5290c",
   "metadata": {},
   "source": [
    "***"
   ]
  },
  {
   "cell_type": "markdown",
   "id": "7e46f0cf-b233-4bbe-a9e1-2fe0af858f55",
   "metadata": {},
   "source": [
    "## Summarizing Model Performance"
   ]
  },
  {
   "cell_type": "markdown",
   "id": "502949f6-50a0-4194-b227-da2d72511c12",
   "metadata": {},
   "source": [
    "At the end of Chapter 5, the author uses a custom-built class to summarize model performance. This class doesn't actually exist (from the author) but you can make it a reality. Using the object you have from mnb_predictions, create something similar to the output on page 335. Feel free (but not obligated) to venture further into the label names and numbers (page 336) and confusion matrix (page 337)."
   ]
  },
  {
   "cell_type": "markdown",
   "id": "58139638-011f-4c1a-9fda-696274f68305",
   "metadata": {},
   "source": [
    "<br>"
   ]
  },
  {
   "cell_type": "markdown",
   "id": "54801b10-05ca-48b1-a5f3-1c84267a86fb",
   "metadata": {},
   "source": [
    "The code that follows begins with importing the necessary Python libraries. A Naive Bayes classifier was then created and used to store the nb_model. The model was then trained, using the \"fit()\" method, on the training data. The trained model aimed to predict the label of the test dataset, utilizing the \"predict()\" method, and subsequent predictions were stored in nb_predictions. After training, unique classes in the test data were identified and sorted for further report generation and matrix construction. A classification report with performance metrics was generated and formatted as a DataFrame for enhanced readability. While not explicitly required, a confusion matrix visualization was created that displayed a heatmap that displays the true and predicted labels for the dataset."
   ]
  },
  {
   "cell_type": "code",
   "execution_count": 2,
   "id": "3db190cd-6573-46e0-b29e-4d93d2916ef7",
   "metadata": {},
   "outputs": [
    {
     "name": "stdout",
     "output_type": "stream",
     "text": [
      "Naive Bayes Classification Report:\n",
      "               precision    recall  f1-score     support\n",
      "Negative       0.736842  0.241379  0.363636   58.000000\n",
      "Positive       0.927987  0.991259  0.958580  572.000000\n",
      "accuracy       0.922222  0.922222  0.922222    0.922222\n",
      "macro avg      0.832415  0.616319  0.661108  630.000000\n",
      "weighted avg   0.910389  0.922222  0.903807  630.000000\n"
     ]
    },
    {
     "data": {
      "image/png": "[encoded data removed]",
      "text/plain": [
       "<Figure size 1000x800 with 2 Axes>"
      ]
     },
     "metadata": {},
     "output_type": "display_data"
    }
   ],
   "source": [
    "# Import the necessary libraries\n",
    "from sklearn.naive_bayes import MultinomialNB\n",
    "from sklearn.metrics import confusion_matrix\n",
    "import matplotlib.pyplot as plt\n",
    "import seaborn as sns\n",
    "\n",
    "nb_model = MultinomialNB()\n",
    "nb_model.fit(X_train_count, y_train_count)\n",
    "\n",
    "nb_predictions = nb_model.predict(X_test_count)\n",
    "\n",
    "unique_classes = sorted(y_test_count.unique())\n",
    "nb_report = classification_report(y_test_count, nb_predictions, target_names=['Negative', 'Positive'], output_dict=True)\n",
    "nb_report_df = pd.DataFrame(nb_report).transpose()\n",
    "\n",
    "print(\"Naive Bayes Classification Report:\\n\", nb_report_df)\n",
    "\n",
    "nb_conf_matrix = confusion_matrix(y_test, nb_predictions)\n",
    "\n",
    "plt.figure(figsize=(10, 8))\n",
    "sns.heatmap(nb_conf_matrix, annot=True, fmt='d', cmap='Blues', xticklabels=['Negative', 'Positive'], yticklabels=['Negative', 'Positive'])\n",
    "plt.xlabel('Predicted Labels')\n",
    "plt.ylabel('True Labels')\n",
    "plt.title('Naive Bayes Confusion Matrix')\n",
    "plt.show()"
   ]
  }
 ],
 "metadata": {
  "kernelspec": {
   "display_name": "Python 3 (ipykernel)",
   "language": "python",
   "name": "python3"
  },
  "language_info": {
   "codemirror_mode": {
    "name": "ipython",
    "version": 3
   },
   "file_extension": ".py",
   "mimetype": "text/x-python",
   "name": "python",
   "nbconvert_exporter": "python",
   "pygments_lexer": "ipython3",
   "version": "3.11.7"
  }
 },
 "nbformat": 4,
 "nbformat_minor": 5
}
