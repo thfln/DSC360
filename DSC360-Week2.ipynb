{
 "cells": [
  {
   "cell_type": "markdown",
   "id": "d5ed5483-e5e9-4b90-bbf7-203482724e36",
   "metadata": {},
   "source": [
    "# DSC360 - Week 2 - Exercise 2.2"
   ]
  },
  {
   "cell_type": "raw",
   "id": "9fb65c78-5231-4e0c-9a0a-241498471466",
   "metadata": {},
   "source": [
    "============================================\n",
    "; Title: Exercise 2.2\n",
    "; Author: Various\n",
    "; Date: 04 September 2024\n",
    "; Modified By: Tyler Heflin\n",
    "; Description: This program demonstrates the use of Python with the\n",
    "; Bored API to retrieve a response.\n",
    ";=========================================== */"
   ]
  },
  {
   "cell_type": "markdown",
   "id": "8d474793-5903-4a9f-80b1-f2a5bd8b8ea6",
   "metadata": {},
   "source": [
    "We begin the exercise this week by importing the required libraries and files. Warnings filter used to suppress passive warnings to clean output visually."
   ]
  },
  {
   "cell_type": "code",
   "execution_count": 1,
   "id": "b6705740-134f-4c54-b1d8-f1fa378cb757",
   "metadata": {},
   "outputs": [],
   "source": [
    "import requests\n",
    "import warnings\n",
    "warnings.filterwarnings(\"ignore\")"
   ]
  },
  {
   "cell_type": "markdown",
   "id": "51a046f5-5e50-4db9-9988-0dfb0ca41e70",
   "metadata": {},
   "source": [
    "## Python, APIs, and Algorithms"
   ]
  },
  {
   "cell_type": "markdown",
   "id": "c1dc6bd6-60e7-46ee-8399-0d384e8d77d7",
   "metadata": {},
   "source": [
    "**1. Use the very simple Bored API (https://bored-api.appbrewery.com/random) and create a simple output of the return as a Python dictionary or JSON string. Be sure you refer to the Python API Tutorial: Getting Started with APIs, which is part of your required reading for the week. You'll use the API without any additional information (i.e., use the base API) to get an output that contains a \"key\" (in the JSON). From the JSON (or dictionary) result, get the key value from the JSON (or dictionary). With that key, use the API to get a specific activity. Format your output showing each attribute of the activity separately with a label and the value. For example:**\n",
    "<br>\n",
    "<br>\n",
    "Activity: Organize your pantry <br>\n",
    "Key: 3954882 <br>\n",
    "Link: \"\" <br>\n",
    "Participants: 1 <br>\n",
    "Price: $0.00 <br>\n",
    "Type: Busywork <br>\n",
    "Accessibility: 0"
   ]
  },
  {
   "cell_type": "markdown",
   "id": "61d10ffe-3dfa-4bae-a9d6-de5ed48cb882",
   "metadata": {},
   "source": [
    "**a. We begin the problem by defining the Bored API URL. This will be used to receive a response output.**"
   ]
  },
  {
   "cell_type": "code",
   "execution_count": 2,
   "id": "03eab249-ed1d-4628-b60e-281947b5ce69",
   "metadata": {},
   "outputs": [],
   "source": [
    "url = \"https://bored-api.appbrewery.com/random\""
   ]
  },
  {
   "cell_type": "markdown",
   "id": "cd652bad-ba92-4f54-b0c8-add627248293",
   "metadata": {},
   "source": [
    "**b. Next, make a 'GET' request to the API; SSL verification was disabled specifically for testing purposes, but would be enabled in production to ensure secure connection.**"
   ]
  },
  {
   "cell_type": "code",
   "execution_count": 3,
   "id": "d4f6b133-b1fc-4ff7-944c-30b538195c4e",
   "metadata": {},
   "outputs": [],
   "source": [
    "response = requests.get(url, verify=False)"
   ]
  },
  {
   "cell_type": "markdown",
   "id": "e986c3ff-b8cd-4bfe-b89d-d555d5fdf875",
   "metadata": {},
   "source": [
    "**c. To ensure request success, status codes are used. Once results are obtained, various methods are used to provide additional readability. Finally, in the event of an error from the API, the end user should be provided with status codes to assist in troubleshooting.**"
   ]
  },
  {
   "cell_type": "code",
   "execution_count": 4,
   "id": "2effc600-67de-496e-aa40-8fe1f497985d",
   "metadata": {},
   "outputs": [
    {
     "name": "stdout",
     "output_type": "stream",
     "text": [
      "\n",
      "===== Activity Dictionary =====\n",
      "\n",
      "Activity: \n",
      "Draw something interesting\n",
      "Availability: \n",
      "0\n",
      "Type: \n",
      "recreational\n",
      "Participants: \n",
      "1\n",
      "Price: \n",
      "0\n",
      "Accessibility: \n",
      "Few to no challenges\n",
      "Duration: \n",
      "minutes\n",
      "Kidfriendly: \n",
      "True\n",
      "Link: \n",
      "\n",
      "Key: \n",
      "8033599\n"
     ]
    }
   ],
   "source": [
    "if response.status_code == 200:\n",
    "    # Convert to dictionary for ease of use\n",
    "    activity_dict = response.json()\n",
    "\n",
    "    # Print result, add separator for clarity\n",
    "    print(\"\\n===== Activity Dictionary =====\\n\")\n",
    "    # Print results, line breaks added for visual clarity\n",
    "    for key, value in activity_dict.items():\n",
    "        print(f\"{key.capitalize()}: \\n{value}\")\n",
    "else:\n",
    "    # Provide status code if error to assist user\n",
    "    print(f\"Error: Unable to retrieve data. Status code: {response.status_code}\")"
   ]
  }
 ],
 "metadata": {
  "kernelspec": {
   "display_name": "Python 3 (ipykernel)",
   "language": "python",
   "name": "python3"
  },
  "language_info": {
   "codemirror_mode": {
    "name": "ipython",
    "version": 3
   },
   "file_extension": ".py",
   "mimetype": "text/x-python",
   "name": "python",
   "nbconvert_exporter": "python",
   "pygments_lexer": "ipython3",
   "version": "3.11.7"
  }
 },
 "nbformat": 4,
 "nbformat_minor": 5
}
